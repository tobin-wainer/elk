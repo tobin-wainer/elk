{
 "cells": [
  {
   "cell_type": "raw",
   "id": "88b5566b",
   "metadata": {
    "raw_mimetype": "text/restructuredtext",
    "tags": []
   },
   "source": [
    "*********************************\n",
    "Calculating Lightcurve Statistics\n",
    "*********************************\n",
    "\n",
    "Intro"
   ]
  },
  {
   "cell_type": "markdown",
   "id": "bfc7bbd8",
   "metadata": {},
   "source": [
    "We can start by importing our favourite package: ``elk``!"
   ]
  },
  {
   "cell_type": "code",
   "execution_count": 4,
   "id": "2b2d228a",
   "metadata": {},
   "outputs": [],
   "source": [
    "import elk\n",
    "import numpy as np\n",
    "\n",
    "%config InlineBackend.figure_format = \"retina\""
   ]
  },
  {
   "cell_type": "markdown",
   "id": "9fe09a83",
   "metadata": {},
   "source": [
    "## Lightcurve Setup"
   ]
  },
  {
   "cell_type": "markdown",
   "id": "6a21627e",
   "metadata": {},
   "source": [
    "Now let's do a simple ensemble lightcurve fit to NGC 419"
   ]
  },
  {
   "cell_type": "code",
   "execution_count": 5,
   "id": "4388482e",
   "metadata": {},
   "outputs": [],
   "source": [
    "c = elk.ensemble.EnsembleLC(output_path='.',\n",
    "                            identifier='NGC 419',\n",
    "                            location='23.58271, +61.1236',\n",
    "                            radius=.046,\n",
    "                            cluster_age=7.75,\n",
    "                            cutout_size=25,\n",
    "                            verbose=True,\n",
    "                            minimize_memory=False)"
   ]
  },
  {
   "cell_type": "code",
   "execution_count": 6,
   "id": "0c9f6dfa",
   "metadata": {},
   "outputs": [
    {
     "name": "stdout",
     "output_type": "stream",
     "text": [
      "NGC 419 has 4 observations\n",
      "Starting Quality Tests for Observation: 0\n"
     ]
    },
    {
     "name": "stderr",
     "output_type": "stream",
     "text": [
      "100%|█| 625/625 [00:11<00:00, 54.41it/s\n"
     ]
    },
    {
     "name": "stdout",
     "output_type": "stream",
     "text": [
      "\u001b[0;32m  Passed Quality Tests \u001b[0m\n",
      "Starting Quality Tests for Observation: 1\n"
     ]
    },
    {
     "name": "stderr",
     "output_type": "stream",
     "text": [
      "100%|█| 625/625 [00:10<00:00, 57.15it/s\n"
     ]
    },
    {
     "name": "stdout",
     "output_type": "stream",
     "text": [
      "\u001b[0;32m  Passed Quality Tests \u001b[0m\n",
      "Starting Quality Tests for Observation: 2\n"
     ]
    },
    {
     "name": "stderr",
     "output_type": "stream",
     "text": [
      "100%|█| 625/625 [00:11<00:00, 53.41it/s\n"
     ]
    },
    {
     "name": "stdout",
     "output_type": "stream",
     "text": [
      "\u001b[0;31m  Failed Scattered Light Test \u001b[0m\n",
      "Starting Quality Tests for Observation: 3\n"
     ]
    },
    {
     "name": "stderr",
     "output_type": "stream",
     "text": [
      "100%|█| 625/625 [01:15<00:00,  8.26it/s\n"
     ]
    },
    {
     "name": "stdout",
     "output_type": "stream",
     "text": [
      "\u001b[0;31m  Failed Scattered Light Test \u001b[0m\n"
     ]
    }
   ],
   "source": [
    "c.create_output_table()"
   ]
  },
  {
   "cell_type": "markdown",
   "id": "4aea967a",
   "metadata": {},
   "source": [
    "## Accessing statistics"
   ]
  },
  {
   "cell_type": "markdown",
   "id": "8378ca69",
   "metadata": {},
   "source": [
    "Now that we've run that we can use the output to start analysing some statistics about the lightcurves that we've created. Let's pick one of them out."
   ]
  },
  {
   "cell_type": "code",
   "execution_count": 7,
   "id": "3f72bc19",
   "metadata": {},
   "outputs": [],
   "source": [
    "lc = c.lcs[1]"
   ]
  },
  {
   "cell_type": "markdown",
   "id": "2040cb10",
   "metadata": {},
   "source": [
    "This lightcurve has access to the many functions within ``elk.stats`` and we can easily access them. For the statistics that don't require inputs, you can simply access them as attributes."
   ]
  },
  {
   "cell_type": "code",
   "execution_count": 8,
   "id": "41a28a94",
   "metadata": {},
   "outputs": [
    {
     "data": {
      "text/plain": [
       "(1.0000015, 0.001523331499211464)"
      ]
     },
     "execution_count": 8,
     "metadata": {},
     "output_type": "execute_result"
    }
   ],
   "source": [
    "lc.rms, lc.von_neumann_ratio"
   ]
  },
  {
   "cell_type": "markdown",
   "id": "d47bc7d7",
   "metadata": {},
   "source": [
    "Similarly, for statistics that could get some input you can access them as class methods like this"
   ]
  },
  {
   "cell_type": "code",
   "execution_count": 9,
   "id": "581eea8a",
   "metadata": {},
   "outputs": [
    {
     "data": {
      "text/plain": [
       "1.1804093968245712"
      ]
     },
     "execution_count": 9,
     "metadata": {},
     "output_type": "execute_result"
    }
   ],
   "source": [
    "lc.J_stetson()"
   ]
  },
  {
   "cell_type": "markdown",
   "id": "c644aa0b",
   "metadata": {},
   "source": [
    "Some of the statistics also _require_ input, like when you create a periodogram"
   ]
  },
  {
   "cell_type": "code",
   "execution_count": 10,
   "id": "bb908ebe",
   "metadata": {},
   "outputs": [
    {
     "data": {
      "text/plain": [
       "3"
      ]
     },
     "execution_count": 10,
     "metadata": {},
     "output_type": "execute_result"
    }
   ],
   "source": [
    "frequencies = np.logspace(-1, 1, 100)\n",
    "_ = lc.to_periodogram(frequencies=frequencies, n_bootstrap=10)\n",
    "lc.stats[\"n_peaks\"]"
   ]
  },
  {
   "cell_type": "markdown",
   "id": "50ad5f04",
   "metadata": {},
   "source": [
    "## Summarising Statistics"
   ]
  },
  {
   "cell_type": "markdown",
   "id": "461527dc",
   "metadata": {},
   "source": [
    "As you may have noticed in the last cell, each of the statistics has been tracks in a dictionary within the class to save you running them again. You can access this dictionary like this"
   ]
  },
  {
   "cell_type": "code",
   "execution_count": 11,
   "id": "7eac41cc",
   "metadata": {},
   "outputs": [
    {
     "data": {
      "text/plain": [
       "{'rms': 1.0000015,\n",
       " 'von_neumann_ratio': 0.001523331499211464,\n",
       " 'J_Stetson': 1.1804093968245712,\n",
       " 'max_power': 0.07469038394829156,\n",
       " 'freq_at_max_power': 0.8111308307896873,\n",
       " 'peak_freqs': array([0.40370173, 0.58570208, 0.81113083, 0.        , 0.        ,\n",
       "        0.        , 0.        , 0.        , 0.        , 0.        ,\n",
       "        0.        , 0.        , 0.        , 0.        , 0.        ,\n",
       "        0.        , 0.        , 0.        , 0.        , 0.        ,\n",
       "        0.        , 0.        , 0.        , 0.        , 0.        ]),\n",
       " 'peak_left_edge': array([0.38535286, 0.55908102, 0.77426368]),\n",
       " 'peak_right_edge': array([0.44306215, 0.61359073, 0.84975344]),\n",
       " 'power_at_peaks': array([0.03234825, 0.02400553, 0.06864197, 0.        , 0.        ,\n",
       "        0.        , 0.        , 0.        , 0.        , 0.        ,\n",
       "        0.        , 0.        , 0.        , 0.        , 0.        ,\n",
       "        0.        , 0.        , 0.        , 0.        , 0.        ,\n",
       "        0.        , 0.        , 0.        , 0.        , 0.        ]),\n",
       " 'n_peaks': 3,\n",
       " 'ratio_of_power_at_high_v_low_freq': 7.2594680008002195,\n",
       " 'FAP': 5.847874573572274e-17}"
      ]
     },
     "execution_count": 11,
     "metadata": {},
     "output_type": "execute_result"
    }
   ],
   "source": [
    "lc.stats"
   ]
  },
  {
   "cell_type": "markdown",
   "id": "427acc80",
   "metadata": {},
   "source": [
    "You can also turn this into an Astropy table for aggregation with other lightcurves"
   ]
  },
  {
   "cell_type": "code",
   "execution_count": 12,
   "id": "efb3bf85",
   "metadata": {},
   "outputs": [
    {
     "data": {
      "text/html": [
       "<div><i>Table length=1</i>\n",
       "<table id=\"table140314242373456\" class=\"table-striped table-bordered table-condensed\">\n",
       "<thead><tr><th>name</th><th>rms</th><th>von_neumann_ratio</th><th>J_Stetson</th><th>max_power</th><th>freq_at_max_power</th><th>peak_freqs</th><th>peak_left_edge</th><th>peak_right_edge</th><th>power_at_peaks</th><th>n_peaks</th><th>ratio_of_power_at_high_v_low_freq</th><th>FAP</th></tr></thead>\n",
       "<thead><tr><th>str7</th><th>float32</th><th>float64</th><th>float64</th><th>float64</th><th>float64</th><th>float64[25]</th><th>float64[3]</th><th>float64[3]</th><th>float64[25]</th><th>int64</th><th>float64</th><th>float64</th></tr></thead>\n",
       "<tr><td>NGC 419</td><td>1.0000015</td><td>0.001523331499211464</td><td>1.1804093968245712</td><td>0.07469038394829156</td><td>0.8111308307896873</td><td>0.40370172585965547 .. 0.0</td><td>0.38535285937105296 .. 0.7742636826811272</td><td>0.4430621457583881 .. 0.8497534359086445</td><td>0.03234825244717329 .. 0.0</td><td>3</td><td>7.2594680008002195</td><td>5.847874573572274e-17</td></tr>\n",
       "</table></div>"
      ],
      "text/plain": [
       "<Table length=1>\n",
       "  name  ...          FAP         \n",
       "  str7  ...        float64       \n",
       "------- ... ---------------------\n",
       "NGC 419 ... 5.847874573572274e-17"
      ]
     },
     "execution_count": 12,
     "metadata": {},
     "output_type": "execute_result"
    }
   ],
   "source": [
    "lc.get_stats_table(name=c.identifier)"
   ]
  },
  {
   "cell_type": "markdown",
   "id": "6c5adb2f",
   "metadata": {},
   "source": [
    "## The Kitchen Sink"
   ]
  },
  {
   "cell_type": "markdown",
   "id": "873da784",
   "metadata": {},
   "source": [
    "If you're in an instance in which you want to get every statistic for the lightcurve quickly, you can run them all **using default settings** as follows"
   ]
  },
  {
   "cell_type": "code",
   "execution_count": 13,
   "id": "9a7fad33",
   "metadata": {},
   "outputs": [
    {
     "data": {
      "text/plain": [
       "{'rms': 0.11711626158441998,\n",
       " 'von_neumann_ratio': 0.001523331499211464,\n",
       " 'J_Stetson': 1.1804093968245712,\n",
       " 'max_power': 0.08539001802971133,\n",
       " 'freq_at_max_power': 0.8100000000000002,\n",
       " 'peak_freqs': array([0.41, 0.59, 0.81, 1.  , 5.5 , 0.  , 0.  , 0.  , 0.  , 0.  , 0.  ,\n",
       "        0.  , 0.  , 0.  , 0.  , 0.  , 0.  , 0.  , 0.  , 0.  , 0.  , 0.  ,\n",
       "        0.  , 0.  , 0.  ]),\n",
       " 'peak_left_edge': array([0.38, 0.57, 0.78, 0.98, 5.48]),\n",
       " 'peak_right_edge': array([0.43, 0.61, 0.83, 1.02, 5.52]),\n",
       " 'power_at_peaks': array([0.02918166, 0.02192662, 0.07675911, 0.0525335 , 0.02054957,\n",
       "        0.        , 0.        , 0.        , 0.        , 0.        ,\n",
       "        0.        , 0.        , 0.        , 0.        , 0.        ,\n",
       "        0.        , 0.        , 0.        , 0.        , 0.        ,\n",
       "        0.        , 0.        , 0.        , 0.        , 0.        ]),\n",
       " 'n_peaks': 5,\n",
       " 'ratio_of_power_at_high_v_low_freq': 3.7920675668825647,\n",
       " 'FAP': 5.1864878417868027e-20,\n",
       " 'std': 0.00018255888,\n",
       " 'MAD': 9.998679e-05,\n",
       " 'sigmaG': 0.00014875981268744874,\n",
       " 'skewness': 3928.4478,\n",
       " 'max_autocorrelation': 0.22151919044721688,\n",
       " 'time_of_max_autocorrelation': array([5.08331299])}"
      ]
     },
     "execution_count": 13,
     "metadata": {},
     "output_type": "execute_result"
    }
   ],
   "source": [
    "lc.get_stats_using_defaults()"
   ]
  },
  {
   "cell_type": "markdown",
   "id": "6348a4f1",
   "metadata": {},
   "source": [
    "We recommend caution when using this function since the default settings may not be the best ones for you!\n",
    "\n",
    "Now when converting back to a table we can see _every_ statistic"
   ]
  },
  {
   "cell_type": "code",
   "execution_count": 14,
   "id": "3b25c7ec",
   "metadata": {},
   "outputs": [
    {
     "data": {
      "text/html": [
       "<div><i>Table length=1</i>\n",
       "<table id=\"table140314242370192\" class=\"table-striped table-bordered table-condensed\">\n",
       "<thead><tr><th>name</th><th>rms</th><th>von_neumann_ratio</th><th>J_Stetson</th><th>max_power</th><th>freq_at_max_power</th><th>peak_freqs</th><th>peak_left_edge</th><th>peak_right_edge</th><th>power_at_peaks</th><th>n_peaks</th><th>ratio_of_power_at_high_v_low_freq</th><th>FAP</th><th>std</th><th>MAD</th><th>sigmaG</th><th>skewness</th><th>max_autocorrelation</th><th>time_of_max_autocorrelation</th></tr></thead>\n",
       "<thead><tr><th>str7</th><th>float64</th><th>float64</th><th>float64</th><th>float64</th><th>float64</th><th>float64[25]</th><th>float64[5]</th><th>float64[5]</th><th>float64[25]</th><th>int64</th><th>float64</th><th>float64</th><th>float32</th><th>float32</th><th>float64</th><th>float32</th><th>float64</th><th>float64[1]</th></tr></thead>\n",
       "<tr><td>NGC 419</td><td>0.11711626158441998</td><td>0.001523331499211464</td><td>1.1804093968245712</td><td>0.08539001802971133</td><td>0.8100000000000002</td><td>0.41000000000000003 .. 0.0</td><td>0.38000000000000006 .. 5.480000000000001</td><td>0.43000000000000005 .. 5.520000000000001</td><td>0.029181663216923198 .. 0.0</td><td>5</td><td>3.7920675668825647</td><td>5.1864878417868027e-20</td><td>0.00018255888</td><td>9.998679e-05</td><td>0.00014875981268744874</td><td>3928.4478</td><td>0.22151919044721688</td><td>5.08331298828125</td></tr>\n",
       "</table></div>"
      ],
      "text/plain": [
       "<Table length=1>\n",
       "  name  ...\n",
       "  str7  ...\n",
       "------- ...\n",
       "NGC 419 ..."
      ]
     },
     "execution_count": 14,
     "metadata": {},
     "output_type": "execute_result"
    }
   ],
   "source": [
    "lc.get_stats_table(name=c.identifier)"
   ]
  }
 ],
 "metadata": {
  "kernelspec": {
   "display_name": "Python 3 (ipykernel)",
   "language": "python",
   "name": "python3"
  },
  "language_info": {
   "codemirror_mode": {
    "name": "ipython",
    "version": 3
   },
   "file_extension": ".py",
   "mimetype": "text/x-python",
   "name": "python",
   "nbconvert_exporter": "python",
   "pygments_lexer": "ipython3",
   "version": "3.10.9"
  }
 },
 "nbformat": 4,
 "nbformat_minor": 5
}
